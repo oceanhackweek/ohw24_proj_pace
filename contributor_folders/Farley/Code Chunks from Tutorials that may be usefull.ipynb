{
 "cells": [
  {
   "cell_type": "markdown",
   "id": "8143481c-3886-4dff-baca-4819f430d9e7",
   "metadata": {},
   "source": [
    "These are code chunks from various tutorials that may be useful for the Plot a Timeseries Anywhere tutorial."
   ]
  },
  {
   "cell_type": "code",
   "execution_count": null,
   "id": "664c0a10-c6a6-4e48-b47d-0c59e6a8ac94",
   "metadata": {},
   "outputs": [],
   "source": [
    "#Dependancies\n",
    "import os\n",
    "\n",
    "from holoviews.streams import Tap\n",
    "from matplotlib import animation\n",
    "from matplotlib.colors import ListedColormap\n",
    "from PIL import Image, ImageEnhance\n",
    "from scipy.ndimage import gaussian_filter1d\n",
    "from xarray.backends.api import open_datatree\n",
    "import cartopy.crs as ccrs\n",
    "import cmocean\n",
    "import earthaccess\n",
    "import holoviews as hv\n",
    "import matplotlib.pyplot as plt\n",
    "import matplotlib.pylab as pl\n",
    "import numpy as np\n",
    "import panel.widgets as pnw\n",
    "import xarray as xr\n",
    "hv.extension(\"bokeh\") #Maybe"
   ]
  },
  {
   "cell_type": "code",
   "execution_count": null,
   "id": "7282dda5-db09-450b-9e4d-6629625c9220",
   "metadata": {},
   "outputs": [],
   "source": [
    "#Just get OCI L3 data.\n",
    "#What granule do we want?\n",
    "results = earthaccess.search_data(\n",
    "    short_name=\"PACE_OCI_L3M_RRS_NRT\",\n",
    "    granule_name=\"*.MO.*.1deg.*\",\n",
    ")\n",
    "paths = earthaccess.open(results)"
   ]
  },
  {
   "cell_type": "code",
   "execution_count": null,
   "id": "64aeea01-dc2e-4e4c-b842-3bc8c860e85e",
   "metadata": {},
   "outputs": [],
   "source": [
    "#Another searching method from Hypercoast\n",
    "datasets = set()\n",
    "for item in results:\n",
    "    summary = item.summary()\n",
    "    short_name = summary[\"short-name\"]\n",
    "    if short_name not in datasets:\n",
    "        print(short_name)\n",
    "    datasets.add(short_name)\n",
    "print(f\"\\nFound {len(datasets)} unique datasets\")\n",
    "\n",
    "#Here they define time and space parameters\n",
    "tspan = (\"2024-04-01\", \"2024-04-16\")\n",
    "bbox = (-76.75, 36.97, -75.74, 39.01)\n",
    "clouds = (0, 50)\n",
    "\n",
    "results, gdf = hypercoast.search_nasa_data(\n",
    "    short_name=\"PACE_OCI_L2_BGC_NRT\",\n",
    "    temporal=tspan,\n",
    "    bounding_box=bbox,\n",
    "    cloud_cover=clouds,\n",
    "    return_gdf=True,\n",
    ")"
   ]
  },
  {
   "cell_type": "code",
   "execution_count": null,
   "id": "3f3e2921-bba7-46c2-9a67-2285b89b93e1",
   "metadata": {},
   "outputs": [],
   "source": [
    "#This opens the latest image only.\n",
    "dataset = xr.open_dataset(paths[-1])"
   ]
  },
  {
   "cell_type": "code",
   "execution_count": null,
   "id": "710971f2-9e0f-4415-bc55-9bbb75e532f8",
   "metadata": {},
   "outputs": [],
   "source": [
    "#From satdata_visualization notebook. A function that opens the dataset, selected by lat and lon, then returns the spectrum of Rrs\n",
    "#Do we want another variable? Or make it more general?\n",
    "#x in longitude, y is latitude\n",
    "def spectrum(x, y):\n",
    "    array = dataset.sel({\"lon\": x, \"lat\": y}, method=\"nearest\")\n",
    "    return hv.Curve(array, kdims=[\"wavelength\"]).redim.range(Rrs=(-0.01, 0.04))\n",
    "\n",
    "#For the equatorial meridian:\n",
    "spectrum(0, 0)\n"
   ]
  },
  {
   "cell_type": "markdown",
   "id": "a14c551d-6354-441f-9683-c3c6b7adc8cd",
   "metadata": {},
   "source": [
    "Hypercoast has an interactive clicky-click map for selecting and downloading PACE data if we want that."
   ]
  },
  {
   "cell_type": "code",
   "execution_count": null,
   "id": "c4118e61-4a47-4f5c-9604-8bda0202619c",
   "metadata": {},
   "outputs": [],
   "source": [
    "#Plot a spectrum from PACE, from Hypercoast\n",
    "latitude = 25.493961\n",
    "longitude = -91.25617\n",
    "hypercoast.filter_pace(dataset, latitude, longitude, return_plot=True)"
   ]
  }
 ],
 "metadata": {
  "kernelspec": {
   "display_name": "Python 3 (ipykernel)",
   "language": "python",
   "name": "python3"
  },
  "language_info": {
   "codemirror_mode": {
    "name": "ipython",
    "version": 3
   },
   "file_extension": ".py",
   "mimetype": "text/x-python",
   "name": "python",
   "nbconvert_exporter": "python",
   "pygments_lexer": "ipython3",
   "version": "3.12.4"
  }
 },
 "nbformat": 4,
 "nbformat_minor": 5
}
