{
 "cells": [
  {
   "cell_type": "markdown",
   "id": "c98c8e31",
   "metadata": {},
   "source": [
    "# Installing and Running OCSSW Command-line Tools\n",
    "\n",
    "**Authors:** Carina Poulin (NASA, SSAI), Ian Carroll (NASA, UMBC), Anna Windle (NASA, SSAI)\n",
    "\n",
    "<div class=\"alert alert-success\" role=\"alert\">\n",
    "\n",
    "The following notebooks are **prerequisites** for this tutorial.\n",
    "\n",
    "- Learn with OCI: [Data Access][oci-data-access]\n",
    "\n",
    "</div>\n",
    "\n",
    "<div class=\"alert alert-info\" role=\"alert\">\n",
    "\n",
    "An [Earthdata Login][edl] account is required to access data from the NASA Earthdata system, including NASA ocean color data.\n",
    "\n",
    "</div>\n",
    "\n",
    "[edl]: https://urs.earthdata.nasa.gov/\n",
    "[oci-data-access]: https://oceancolor.gsfc.nasa.gov/resources/docs/tutorials/notebooks/oci_data_access/\n",
    "\n",
    "## Summary\n",
    "\n",
    "[SeaDAS][seadas] is the official data analysis sofware of NASA's Ocean Biology Distributed Active Archive Center (OB.DAAC); used to process, display and analyse ocean color data. SeaDAS is a dektop application that includes the Ocean Color Science Software (OCSSW) libraries. There are also command line programs for the OCSSW libraries, which we can use to write processing scripts or notebooks. This tutorial will show you how to install OCSSW and test it by processing a Level-1B (L1B) file from PACE OCI to a Level-2 (L2) file using `l2gen`. The installation can find OCSSW tools that work on modern Linux and macOS operating systems but not Windows.\n",
    "\n",
    "[seadas]: https://seadas.gsfc.nasa.gov/\n",
    "\n",
    "## Learning Objectives\n",
    "\n",
    "At the end of this notebok you will know:\n",
    "* How to install OCSSW on your server\n",
    "* How to set up your OCSSW session\n",
    "* How to process a L1B file to L2 using l2gen\n",
    "\n",
    "## Contents\n",
    "\n",
    "1. [Setup](#1.-Setup)\n",
    "2. [Install OCSSW](#2.-Install-OCSSW)\n",
    "3. [Process Data with `l2gen`](#3.-Process-Data-with-`l2gen`)\n",
    "4. [All-in-One](#4.-All-in-One)"
   ]
  },
  {
   "cell_type": "markdown",
   "id": "37a78d28",
   "metadata": {},
   "source": [
    "## 1. Setup\n",
    "\n",
    "<div class=\"alert alert-info\" role=\"alert\">\n",
    "\n",
    "This tutorial is written in a Jupyter notebook connected to a Bash kernel. If you have downloaded this Jupyter notebook and want to run it, you also need to connected it to a Bash kernel. Alternatively, you can copy the code cells to the Terminal application found in the JupyterLab Launcher, which speaks Bash or something close enough.\n",
    "\n",
    "</div>\n",
    "\n",
    "### (Optional) Use a Bash Kernel\n",
    "\n",
    "<div class=\"alert alert-danger\" role=\"alert\">\n",
    "\n",
    "Conda uses a lot of memory while configuring your environment. Choose an option with more than about 5GB of RAM from the JupyterHub Control Panel, or your install will fail.\n",
    "\n",
    "</div>\n",
    "\n",
    "Convert the following cell from type \"Raw\" to \"Code\", using the notebook menu, and run it. If the terminal prompts you, enter \"Y\" to accept."
   ]
  },
  {
   "cell_type": "raw",
   "id": "8a9597a9",
   "metadata": {
    "scrolled": true
   },
   "source": [
    "%conda install bash_kernel"
   ]
  },
  {
   "cell_type": "markdown",
   "id": "560e0733",
   "metadata": {},
   "source": [
    "Follow the prompts from conda to proceed with any installs and updates. If prompted, enter \"y\" to accept.\n",
    "\n",
    "Confirm the bash kernel is installed by starting a new Launcher. You should see the bash kernel along with Python and other kernels installed in your JupyterHub. You should now **change the kernel of the notebook** by clicking on the kernel name in the upper-right corner of the window and selecting the Bash kernel before moving on to the rest of the tutorial.\n",
    "\n",
    "[back to top](#Contents)"
   ]
  },
  {
   "cell_type": "markdown",
   "id": "42de8808",
   "metadata": {},
   "source": [
    "## 2. Install OCSSW\n",
    "\n",
    "The OCSSW software is not a Python package and not available from `conda` or any other repository. To install it, we begin by aquiring an installer script from the OB.DAAC. This script is actually part of OCSSW, but we can use it independently to download and install the OCSSW binaries suitable for our system."
   ]
  },
  {
   "cell_type": "code",
   "execution_count": null,
   "id": "7c9c2e27",
   "metadata": {},
   "outputs": [],
   "source": [
    "wget https://oceandata.sci.gsfc.nasa.gov/manifest/install_ocssw"
   ]
  },
  {
   "cell_type": "markdown",
   "id": "25081f67",
   "metadata": {},
   "source": [
    "Similarly, we'll need the manifest module imported by the installer."
   ]
  },
  {
   "cell_type": "code",
   "execution_count": null,
   "id": "533445bc",
   "metadata": {},
   "outputs": [],
   "source": [
    "wget https://oceandata.sci.gsfc.nasa.gov/manifest/manifest.py"
   ]
  },
  {
   "cell_type": "markdown",
   "id": "0bfa66b3",
   "metadata": {},
   "source": [
    "Before you can use a downloaded script, you need to change its mode to be executable."
   ]
  },
  {
   "cell_type": "code",
   "execution_count": null,
   "id": "63cd9416",
   "metadata": {},
   "outputs": [],
   "source": [
    "chmod +x install_ocssw"
   ]
  },
  {
   "cell_type": "markdown",
   "id": "e08d2c00",
   "metadata": {},
   "source": [
    "Take a look at the different OCSSW \"tags\" you can install. It is recommended to use the most recent one for the installation, which is T2024.16 at the time of writing this tutorial. Tags starting with \"V\" are operational versions, and tags starting with \"T\" are test versions. Use \"T\" to process the latest data products, but keep in mind that processing can change a lot between tags. Other tags are deprecated, including those starting with \"R\"."
   ]
  },
  {
   "cell_type": "code",
   "execution_count": null,
   "id": "8e577cfa",
   "metadata": {
    "scrolled": true
   },
   "outputs": [],
   "source": [
    "./install_ocssw --list_tags"
   ]
  },
  {
   "cell_type": "markdown",
   "id": "9d6bb53c",
   "metadata": {},
   "source": [
    "Define an environmental variable called \"OCSSWROOT\" that specifies a directory for your OCSSW installation. Environment variables are set in Bash using the `export` command, and displayed with `printenv`"
   ]
  },
  {
   "cell_type": "code",
   "execution_count": null,
   "id": "a4f756ca",
   "metadata": {},
   "outputs": [],
   "source": [
    "export OCSSWROOT=/tmp/ocssw"
   ]
  },
  {
   "cell_type": "code",
   "execution_count": null,
   "id": "a9f8f472",
   "metadata": {},
   "outputs": [],
   "source": [
    "printenv OCSSWROOT"
   ]
  },
  {
   "cell_type": "markdown",
   "id": "50c990b0",
   "metadata": {},
   "source": [
    "<div class=\"alert alert-warning\" role=\"alert\">\n",
    "    \n",
    "You will need to [repeat these installation steps](#all) if your OCSSWROOT directory does not persist between sessions.\n",
    "\n",
    "</div>\n",
    "\n",
    "The `/tmp/ocssw` folder, for instance, will not be present the next time JupyterHub creates a server. Consider the trade off between installation time, speed, and storage costs when choosing your OCSSWROOT. With the arguments below, the installation takes 11GB of storage space. We use the quick and cheap location for this tutorial.\n",
    "\n",
    "Install OCSSW using the `--tag` argument to pick from the list above. Also provide optional arguments for sensors you will be working with. In this case, we will only be using OCI. A list of optional arguments can be found on the OCSSW webpage or with `./install_ocssw --help`.\n",
    "\n",
    "*Tip:* The process is not finished as long as the counter to the left of the cell shows `[*]`. It will take some time to install all the tools (7 of 7 installations)."
   ]
  },
  {
   "cell_type": "code",
   "execution_count": null,
   "id": "e05f4940",
   "metadata": {},
   "outputs": [],
   "source": [
    "./install_ocssw --tag=T2024.19 --seadas --oci"
   ]
  },
  {
   "cell_type": "markdown",
   "id": "d5e4131a",
   "metadata": {},
   "source": [
    "Finish up by calling `source` on the \"OCSSW_bash.env\" file, which exports additional environment variables. This environment file specifies the locations of all files required by OCSSW, and must be exported in every Terminal or Bash kernel before you run `l2gen` or any other OCSSW command."
   ]
  },
  {
   "cell_type": "code",
   "execution_count": null,
   "id": "41d93b7a",
   "metadata": {},
   "outputs": [],
   "source": [
    "source $OCSSWROOT/OCSSW_bash.env"
   ]
  },
  {
   "cell_type": "markdown",
   "id": "185e49b1",
   "metadata": {},
   "source": [
    "Confirm the environment has been set by checking that *another* `install_ocssw` script is now discoverable by Bash at the newly installed location."
   ]
  },
  {
   "cell_type": "code",
   "execution_count": null,
   "id": "218c2a36",
   "metadata": {},
   "outputs": [],
   "source": [
    "which install_ocssw"
   ]
  },
  {
   "cell_type": "markdown",
   "id": "c4ebb02c",
   "metadata": {},
   "source": [
    "You are now ready to run `l2gen`, the Level-2 processing function for all ocean color instruments under the auspices of the GSFC Ocean Biology Processing Group!\n",
    "\n",
    "[back to top](#Contents)"
   ]
  },
  {
   "cell_type": "markdown",
   "id": "1b29aa50",
   "metadata": {},
   "source": [
    "## 3. Process L1B Data with `l2gen`\n",
    "\n",
    "Run `l2gen` by itself to view the extensive list of options available. You can find more information [on the Seadas website][docs].\n",
    "\n",
    "[docs]: https://seadas.gsfc.nasa.gov/help-8.3.0/processors/ProcessL2gen.html"
   ]
  },
  {
   "cell_type": "code",
   "execution_count": null,
   "id": "582c63b3",
   "metadata": {
    "scrolled": true
   },
   "outputs": [],
   "source": [
    "l2gen"
   ]
  },
  {
   "cell_type": "markdown",
   "id": "fef50f0b",
   "metadata": {},
   "source": [
    "Feel free to explore all of `l2gen` options to produce a highly customized Level-2 dataset for your research. Here we just scratch the surface.\n",
    "\n",
    "To process a L1B file using `l2gen` you need, at a minimum, to set an input file name (`ifile`) and an output file name (`ofile`). You can also indicate a data suite; in this example, we will proceed with the Surface Reflectance suite used to make true color images (`SFREFL`). We turn off the atmospheric correction with `atmocor=0` to save processing time.\n",
    "\n",
    "For this example, we will be using the L1B file downloaded in the OCI Data Access notebook. Confirm that the L1B file to process is at the expected location by listing (with `ls`) the directory contents. If the directory is empty, check that you've completed the prerequiste notebooks for this tutorial!"
   ]
  },
  {
   "cell_type": "markdown",
   "id": "05eb5324",
   "metadata": {},
   "source": [
    "ls L1B"
   ]
  },
  {
   "cell_type": "markdown",
   "id": "eb88dad5",
   "metadata": {},
   "source": [
    "Create a directory for output files."
   ]
  },
  {
   "cell_type": "markdown",
   "id": "2e58f089",
   "metadata": {},
   "source": [
    "mkdir L2"
   ]
  },
  {
   "cell_type": "markdown",
   "id": "fb38c9bd",
   "metadata": {},
   "source": [
    "And run! Note, this may take several minutes."
   ]
  },
  {
   "cell_type": "code",
   "execution_count": null,
   "id": "519126ed",
   "metadata": {
    "scrolled": true
   },
   "outputs": [],
   "source": [
    "l2gen \\\n",
    "  ifile=L1B/PACE_OCI.20240501T165311.L1B.nc \\\n",
    "  ofile=L2/PACE_OCI.20240501T165311.L2.SFREFL.nc \\\n",
    "  suite=SFREFL \\\n",
    "  atmocor=0"
   ]
  },
  {
   "cell_type": "markdown",
   "id": "ba29aad2",
   "metadata": {},
   "source": [
    "<div class=\"alert alert-success\" role=\"alert\">\n",
    "\n",
    "Scroll down in the output above to see updates on processing. Upon completion, you should have a new processed L2 file in your L2 folder.\n",
    "\n",
    "</div>\n",
    "\n",
    "[back to top](#Contents)"
   ]
  },
  {
   "cell_type": "markdown",
   "id": "cdbfe69c",
   "metadata": {},
   "source": [
    "## 4. All-in-One\n",
    "\n",
    "In case you need to run the sequence above in a terminal regularly, here are all the commands\n",
    "to copy and run together. This assumes you already used `wget` to persist the install script\n",
    "and `manifest.json` in the current directory."
   ]
  },
  {
   "cell_type": "code",
   "execution_count": null,
   "id": "895ef172",
   "metadata": {},
   "outputs": [],
   "source": [
    "export OCSSWROOT=/tmp/ocssw\n",
    "./install_ocssw --tag=T2024.19 --seadas --oci\n",
    "source $OCSSWROOT/OCSSW_bash.env"
   ]
  },
  {
   "cell_type": "markdown",
   "id": "f2f50c17",
   "metadata": {},
   "source": [
    "Or, if that assumption is wrong and you also need to `wget` those files, copy and run the following."
   ]
  },
  {
   "cell_type": "code",
   "execution_count": null,
   "id": "63aabbb2",
   "metadata": {},
   "outputs": [],
   "source": [
    "wget https://oceandata.sci.gsfc.nasa.gov/manifest/install_ocssw\n",
    "wget https://oceandata.sci.gsfc.nasa.gov/manifest/manifest.py\n",
    "chmod +x install_ocssw\n",
    "export OCSSWROOT=/tmp/ocssw\n",
    "./install_ocssw --tag=T2024.19 --seadas --oci\n",
    "source $OCSSWROOT/OCSSW_bash.env"
   ]
  },
  {
   "cell_type": "markdown",
   "id": "b566e9f5",
   "metadata": {},
   "source": [
    "[back to top](#Contents)\n",
    "\n",
    "<div class=\"alert alert-info\" role=\"alert\">\n",
    "\n",
    "You have completed the notebook on installing OCCSW. Check out the notebook on Processing with OCSSW Tools.\n",
    "\n",
    "</div>"
   ]
  }
 ],
 "metadata": {
  "jupytext": {
   "cell_metadata_filter": "scrolled,tags,-all",
   "notebook_metadata_filter": "-all,kernelspec"
  },
  "kernelspec": {
   "display_name": "Python 3 (ipykernel)",
   "language": "python",
   "name": "python3"
  },
  "language_info": {
   "codemirror_mode": {
    "name": "ipython",
    "version": 3
   },
   "file_extension": ".py",
   "mimetype": "text/x-python",
   "name": "python",
   "nbconvert_exporter": "python",
   "pygments_lexer": "ipython3",
   "version": "3.11.9"
  }
 },
 "nbformat": 4,
 "nbformat_minor": 5
}
